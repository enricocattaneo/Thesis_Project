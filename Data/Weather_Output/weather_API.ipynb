{
 "cells": [
  {
   "cell_type": "markdown",
   "metadata": {},
   "source": [
    "# **Weather Data**"
   ]
  },
  {
   "cell_type": "code",
   "execution_count": null,
   "metadata": {},
   "outputs": [],
   "source": [
    "import pandas as pd\n",
    "import math\n",
    "import datetime\n",
    "import urllib.request\n",
    "import json\n",
    "import numpy as np\n",
    "import re\n",
    "from tqdm.notebook import trange"
   ]
  },
  {
   "cell_type": "code",
   "execution_count": null,
   "metadata": {},
   "outputs": [],
   "source": [
    "# Import df\n",
    "df = pd.read_csv('input_weather.csv',low_memory=False)\n",
    "# Set Fixture id as index\n",
    "df.set_index('id', inplace=True)\n",
    "#### Change df types ####\n",
    "float_columns = ['weather_report_pressure', 'weather_report_temperature_celcius_temp', 'weather_report_wind_degree', 'weather_windspeed(m/s)', 'home_passes_percentage', 'away_passes_percentage'] # columns that will be floats\n",
    "# Convert all numeric columns to int except those that are expressed in floats\n",
    "df[['weather_windspeed(m/s)', 'weather_clouds(%)', 'weather_humidity(%)']] = df[['weather_windspeed(m/s)', 'weather_clouds(%)', 'weather_humidity(%)']].astype('float64')       \n",
    "m = df.select_dtypes(np.number).loc[:, ~df.select_dtypes(np.number).columns.isin(float_columns)]\n",
    "df[m.columns]= m.round().astype('Int64')\n",
    "# Convert dates to datetime format\n",
    "df['time_starting_at_date_time'] = pd.to_datetime(df['time_starting_at_date_time'], infer_datetime_format=True)\n",
    "df = df.sort_values(by='time_starting_at_date_time')\n",
    "df = df.rename(columns={'time_starting_at_date_time': 'time'})"
   ]
  },
  {
   "cell_type": "code",
   "execution_count": null,
   "metadata": {},
   "outputs": [],
   "source": [
    "df = df[['time', 'venue_coordinates']]"
   ]
  },
  {
   "cell_type": "code",
   "execution_count": null,
   "metadata": {},
   "outputs": [],
   "source": [
    "df['latitude'] = df.apply(lambda row: float(re.search('\\((.*),(.*)\\)', row['venue_coordinates']).group(1)), axis=1)\n",
    "df['longitude'] = df.apply(lambda row: float(re.search('\\((.*),(.*)\\)', row['venue_coordinates']).group(2)), axis=1)"
   ]
  },
  {
   "cell_type": "code",
   "execution_count": null,
   "metadata": {},
   "outputs": [],
   "source": [
    "df.head()"
   ]
  },
  {
   "cell_type": "code",
   "execution_count": null,
   "metadata": {},
   "outputs": [],
   "source": [
    "records = []\n",
    "labels = ['id','time','lat','lon','temp','precip','cloudcover','humidity','pressure','sunset','winddir','windgust','windspeed'] "
   ]
  },
  {
   "cell_type": "code",
   "execution_count": null,
   "metadata": {},
   "outputs": [],
   "source": [
    "# SECOND 500\n",
    "for i in trange(2490, 3490):\n",
    "   \n",
    "   weather_api_endpoint = 'https://weather.visualcrossing.com/VisualCrossingWebServices/rest/services/weatherdata/history'\n",
    "   query_params = '&contentType=json&aggregateMinutes=15&unitGroup=metric&includeAstronomy=true&include=stats,obs&elements=temp,precip,temp,precip,cloudcover,humidity,pressure,sunset,winddir,windgust,windspeed&key={}&startDateTime={}&endDateTime={}&locations={},{}'\n",
    "\n",
    "   query_params=query_params.format('DZH75DKGAFFV2JCKN8CUJK7NN', df['time'].iloc[i].isoformat(), df['time'].iloc[i].isoformat(),df['latitude'].iloc[i],df['longitude'].iloc[i])\n",
    "   try:\n",
    "       response = urllib.request.urlopen(weather_api_endpoint +\"?\"+ query_params)\n",
    "       data = response.read()\n",
    "   except Exception:\n",
    "      print(\"Error reading from {}\".format(weather_api_endpoint +\"?\"+ query_params))\n",
    "\n",
    "   locations = json.loads(data.decode('utf-8'))[\"locations\"]\n",
    "   for locationid in locations:\n",
    "      value = locations[locationid]['values'][0]\n",
    "      records.append((df.index[i], df['time'].iloc[i].isoformat(),df['latitude'].iloc[i],df['longitude'].iloc[i],value[\"temp\"],value[\"precip\"],value[\"cloudcover\"],value[\"humidity\"],value[\"sealevelpressure\"],value[\"sunset\"], value[\"wdir\"],value[\"wgust\"], value[\"wspd\"]))"
   ]
  },
  {
   "cell_type": "code",
   "execution_count": null,
   "metadata": {},
   "outputs": [],
   "source": [
    "output_df = pd.DataFrame.from_records(records, columns=labels)\n",
    "output_df.tail()"
   ]
  },
  {
   "cell_type": "code",
   "execution_count": null,
   "metadata": {},
   "outputs": [],
   "source": [
    "output_df.to_csv('weather_out_complete.csv', index=False) "
   ]
  }
 ],
 "metadata": {
  "interpreter": {
   "hash": "40d3a090f54c6569ab1632332b64b2c03c39dcf918b08424e98f38b5ae0af88f"
  },
  "kernelspec": {
   "display_name": "Python 3.8.13 ('base')",
   "language": "python",
   "name": "python3"
  },
  "language_info": {
   "codemirror_mode": {
    "name": "ipython",
    "version": 3
   },
   "file_extension": ".py",
   "mimetype": "text/x-python",
   "name": "python",
   "nbconvert_exporter": "python",
   "pygments_lexer": "ipython3",
   "version": "3.8.13"
  },
  "orig_nbformat": 4
 },
 "nbformat": 4,
 "nbformat_minor": 2
}
