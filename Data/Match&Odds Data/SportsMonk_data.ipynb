{
 "cells": [
  {
   "cell_type": "markdown",
   "metadata": {},
   "source": [
    "# **Get Match Data + Odds Data**"
   ]
  },
  {
   "cell_type": "markdown",
   "metadata": {},
   "source": [
    "## Intro"
   ]
  },
  {
   "cell_type": "markdown",
   "metadata": {},
   "source": [
    "### Imports"
   ]
  },
  {
   "cell_type": "code",
   "execution_count": 1,
   "metadata": {},
   "outputs": [
    {
     "data": {
      "text/plain": [
       "{'subscription': {'started_at': {'date': '2022-04-12 13:21:13.000000',\n",
       "   'timezone_type': 3,\n",
       "   'timezone': 'UTC'},\n",
       "  'trial_ends_at': {'date': '2022-04-26 14:18:45.000000',\n",
       "   'timezone_type': 3,\n",
       "   'timezone': 'UTC'},\n",
       "  'ends_at': {'date': '2022-05-12 13:21:09.000000',\n",
       "   'timezone_type': 3,\n",
       "   'timezone': 'UTC'}},\n",
       " 'plans': [{'name': 'European Plan',\n",
       "   'features': 'Advanced',\n",
       "   'price_monthly': 57,\n",
       "   'price_yearly': 600,\n",
       "   'request_limit': '2000,60',\n",
       "   'sport': 'Soccer'}],\n",
       " 'add-ons': [],\n",
       " 'sports': [{'id': 1, 'name': 'Soccer', 'current': True}]}"
      ]
     },
     "execution_count": 1,
     "metadata": {},
     "output_type": "execute_result"
    }
   ],
   "source": [
    "from sportmonks.soccer import SoccerApiV2\n",
    "from datetime import date\n",
    "import pandas as pd\n",
    "import collections\n",
    "import time \n",
    "import pandas as pd\n",
    "import json\n",
    "\n",
    "soccer = SoccerApiV2(api_token='EJnOPHRD4WyO4W4np63izq5Fw7RuwLu2Ys0DiUWy6e4BdV5DUQNmf8uPIkvr')\n",
    "soccer.meta()"
   ]
  },
  {
   "cell_type": "code",
   "execution_count": 2,
   "metadata": {},
   "outputs": [
    {
     "data": {
      "text/plain": [
       "0"
      ]
     },
     "execution_count": 2,
     "metadata": {},
     "output_type": "execute_result"
    }
   ],
   "source": [
    "soccer.http_requests_made # Number of HTTP requests made"
   ]
  },
  {
   "cell_type": "code",
   "execution_count": 3,
   "metadata": {},
   "outputs": [
    {
     "data": {
      "text/plain": [
       "[{'id': 2,\n",
       "  'active': True,\n",
       "  'type': 'cup_international',\n",
       "  'legacy_id': 11,\n",
       "  'country_id': 41,\n",
       "  'logo_path': 'https://cdn.sportmonks.com/images/soccer/leagues/2.png',\n",
       "  'name': 'Champions League',\n",
       "  'is_cup': True,\n",
       "  'is_friendly': False,\n",
       "  'current_season_id': 18346,\n",
       "  'current_round_id': None,\n",
       "  'current_stage_id': 77453619,\n",
       "  'live_standings': True,\n",
       "  'coverage': {'predictions': True,\n",
       "   'topscorer_goals': True,\n",
       "   'topscorer_assists': True,\n",
       "   'topscorer_cards': True}},\n",
       " {'id': 5,\n",
       "  'active': True,\n",
       "  'type': 'cup_international',\n",
       "  'legacy_id': 12,\n",
       "  'country_id': 41,\n",
       "  'logo_path': 'https://cdn.sportmonks.com/images/soccer/leagues/5.png',\n",
       "  'name': 'Europa League',\n",
       "  'is_cup': True,\n",
       "  'is_friendly': False,\n",
       "  'current_season_id': 18629,\n",
       "  'current_round_id': None,\n",
       "  'current_stage_id': 77454496,\n",
       "  'live_standings': True,\n",
       "  'coverage': {'predictions': True,\n",
       "   'topscorer_goals': True,\n",
       "   'topscorer_assists': True,\n",
       "   'topscorer_cards': True}},\n",
       " {'id': 8,\n",
       "  'active': True,\n",
       "  'type': 'domestic',\n",
       "  'legacy_id': 29,\n",
       "  'country_id': 462,\n",
       "  'logo_path': 'https://cdn.sportmonks.com/images/soccer/leagues/8/8.png',\n",
       "  'name': 'Premier League',\n",
       "  'is_cup': False,\n",
       "  'is_friendly': False,\n",
       "  'current_season_id': 18378,\n",
       "  'current_round_id': 247617,\n",
       "  'current_stage_id': 77453700,\n",
       "  'live_standings': True,\n",
       "  'coverage': {'predictions': True,\n",
       "   'topscorer_goals': True,\n",
       "   'topscorer_assists': True,\n",
       "   'topscorer_cards': True}},\n",
       " {'id': 9,\n",
       "  'active': True,\n",
       "  'type': 'domestic',\n",
       "  'legacy_id': 30,\n",
       "  'country_id': 462,\n",
       "  'logo_path': 'https://cdn.sportmonks.com/images/soccer/leagues/9/9.png',\n",
       "  'name': 'Championship',\n",
       "  'is_cup': False,\n",
       "  'is_friendly': False,\n",
       "  'current_season_id': 18432,\n",
       "  'current_round_id': 249292,\n",
       "  'current_stage_id': 77453944,\n",
       "  'live_standings': True,\n",
       "  'coverage': {'predictions': True,\n",
       "   'topscorer_goals': True,\n",
       "   'topscorer_assists': True,\n",
       "   'topscorer_cards': True}},\n",
       " {'id': 24,\n",
       "  'active': True,\n",
       "  'type': 'domestic_cup',\n",
       "  'legacy_id': 33,\n",
       "  'country_id': 462,\n",
       "  'logo_path': 'https://cdn.sportmonks.com/images/soccer/leagues/24/24.png',\n",
       "  'name': 'FA Cup',\n",
       "  'is_cup': True,\n",
       "  'is_friendly': False,\n",
       "  'current_season_id': 18546,\n",
       "  'current_round_id': None,\n",
       "  'current_stage_id': 77454252,\n",
       "  'live_standings': False,\n",
       "  'coverage': {'predictions': True,\n",
       "   'topscorer_goals': True,\n",
       "   'topscorer_assists': True,\n",
       "   'topscorer_cards': True}},\n",
       " {'id': 72,\n",
       "  'active': True,\n",
       "  'type': 'domestic',\n",
       "  'legacy_id': 1,\n",
       "  'country_id': 38,\n",
       "  'logo_path': 'https://cdn.sportmonks.com/images/soccer/leagues/72.png',\n",
       "  'name': 'Eredivisie',\n",
       "  'is_cup': False,\n",
       "  'is_friendly': False,\n",
       "  'current_season_id': 18350,\n",
       "  'current_round_id': 246813,\n",
       "  'current_stage_id': 77453638,\n",
       "  'live_standings': True,\n",
       "  'coverage': {'predictions': True,\n",
       "   'topscorer_goals': True,\n",
       "   'topscorer_assists': True,\n",
       "   'topscorer_cards': True}},\n",
       " {'id': 82,\n",
       "  'active': True,\n",
       "  'type': 'domestic',\n",
       "  'legacy_id': 4,\n",
       "  'country_id': 11,\n",
       "  'logo_path': 'https://cdn.sportmonks.com/images/soccer/leagues/82.png',\n",
       "  'name': 'Bundesliga',\n",
       "  'is_cup': False,\n",
       "  'is_friendly': False,\n",
       "  'current_season_id': 18444,\n",
       "  'current_round_id': 249637,\n",
       "  'current_stage_id': 77453972,\n",
       "  'live_standings': True,\n",
       "  'coverage': {'predictions': True,\n",
       "   'topscorer_goals': True,\n",
       "   'topscorer_assists': True,\n",
       "   'topscorer_cards': True}},\n",
       " {'id': 181,\n",
       "  'active': True,\n",
       "  'type': 'domestic',\n",
       "  'legacy_id': 54,\n",
       "  'country_id': 143,\n",
       "  'logo_path': 'https://cdn.sportmonks.com/images//soccer/leagues/21/181.png',\n",
       "  'name': 'Admiral Bundesliga',\n",
       "  'is_cup': False,\n",
       "  'is_friendly': False,\n",
       "  'current_season_id': 18421,\n",
       "  'current_round_id': 270934,\n",
       "  'current_stage_id': 77453905,\n",
       "  'live_standings': True,\n",
       "  'coverage': {'predictions': True,\n",
       "   'topscorer_goals': True,\n",
       "   'topscorer_assists': True,\n",
       "   'topscorer_cards': True}},\n",
       " {'id': 208,\n",
       "  'active': True,\n",
       "  'type': 'domestic',\n",
       "  'legacy_id': 8,\n",
       "  'country_id': 556,\n",
       "  'logo_path': 'https://cdn.sportmonks.com/images/soccer/leagues/16/208.png',\n",
       "  'name': 'Pro League',\n",
       "  'is_cup': False,\n",
       "  'is_friendly': False,\n",
       "  'current_season_id': 18348,\n",
       "  'current_round_id': 272879,\n",
       "  'current_stage_id': 77453633,\n",
       "  'live_standings': True,\n",
       "  'coverage': {'predictions': True,\n",
       "   'topscorer_goals': True,\n",
       "   'topscorer_assists': True,\n",
       "   'topscorer_cards': True}},\n",
       " {'id': 244,\n",
       "  'active': True,\n",
       "  'type': 'domestic',\n",
       "  'legacy_id': 139,\n",
       "  'country_id': 266,\n",
       "  'logo_path': 'https://cdn.sportmonks.com/images/soccer/leagues/20/244.png',\n",
       "  'name': '1. HNL',\n",
       "  'is_cup': False,\n",
       "  'is_friendly': False,\n",
       "  'current_season_id': 18351,\n",
       "  'current_round_id': 246985,\n",
       "  'current_stage_id': 77453639,\n",
       "  'live_standings': True,\n",
       "  'coverage': {'predictions': True,\n",
       "   'topscorer_goals': True,\n",
       "   'topscorer_assists': True,\n",
       "   'topscorer_cards': True}},\n",
       " {'id': 271,\n",
       "  'active': True,\n",
       "  'type': 'domestic',\n",
       "  'legacy_id': 43,\n",
       "  'country_id': 320,\n",
       "  'logo_path': 'https://cdn.sportmonks.com/images/soccer/leagues/271.png',\n",
       "  'name': 'Superliga',\n",
       "  'is_cup': False,\n",
       "  'is_friendly': False,\n",
       "  'current_season_id': 18334,\n",
       "  'current_round_id': 271931,\n",
       "  'current_stage_id': 77453567,\n",
       "  'live_standings': True,\n",
       "  'coverage': {'predictions': True,\n",
       "   'topscorer_goals': True,\n",
       "   'topscorer_assists': True,\n",
       "   'topscorer_cards': True}},\n",
       " {'id': 301,\n",
       "  'active': True,\n",
       "  'type': 'domestic',\n",
       "  'legacy_id': 47,\n",
       "  'country_id': 17,\n",
       "  'logo_path': 'https://cdn.sportmonks.com/images//soccer/leagues/13/301.png',\n",
       "  'name': 'Ligue 1',\n",
       "  'is_cup': False,\n",
       "  'is_friendly': False,\n",
       "  'current_season_id': 18441,\n",
       "  'current_round_id': 249534,\n",
       "  'current_stage_id': 77453967,\n",
       "  'live_standings': True,\n",
       "  'coverage': {'predictions': True,\n",
       "   'topscorer_goals': True,\n",
       "   'topscorer_assists': True,\n",
       "   'topscorer_cards': True}},\n",
       " {'id': 384,\n",
       "  'active': True,\n",
       "  'type': 'domestic',\n",
       "  'legacy_id': 22,\n",
       "  'country_id': 251,\n",
       "  'logo_path': 'https://cdn.sportmonks.com/images//soccer/leagues/0/384.png',\n",
       "  'name': 'Serie A',\n",
       "  'is_cup': False,\n",
       "  'is_friendly': False,\n",
       "  'current_season_id': 18576,\n",
       "  'current_round_id': 252816,\n",
       "  'current_stage_id': 77454372,\n",
       "  'live_standings': True,\n",
       "  'coverage': {'predictions': True,\n",
       "   'topscorer_goals': True,\n",
       "   'topscorer_assists': True,\n",
       "   'topscorer_cards': True}},\n",
       " {'id': 390,\n",
       "  'active': True,\n",
       "  'type': 'domestic_cup',\n",
       "  'legacy_id': 24,\n",
       "  'country_id': 251,\n",
       "  'logo_path': 'https://cdn.sportmonks.com/images/soccer/leagues/6/390.png',\n",
       "  'name': 'Coppa Italia',\n",
       "  'is_cup': True,\n",
       "  'is_friendly': False,\n",
       "  'current_season_id': 18608,\n",
       "  'current_round_id': None,\n",
       "  'current_stage_id': 77454432,\n",
       "  'live_standings': False,\n",
       "  'coverage': {'predictions': True,\n",
       "   'topscorer_goals': True,\n",
       "   'topscorer_assists': True,\n",
       "   'topscorer_cards': True}},\n",
       " {'id': 444,\n",
       "  'active': True,\n",
       "  'type': 'domestic',\n",
       "  'legacy_id': 114,\n",
       "  'country_id': 1578,\n",
       "  'logo_path': 'https://cdn.sportmonks.com/images/soccer/leagues/28/444.png',\n",
       "  'name': 'Eliteserien',\n",
       "  'is_cup': False,\n",
       "  'is_friendly': False,\n",
       "  'current_season_id': 19369,\n",
       "  'current_round_id': 266957,\n",
       "  'current_stage_id': 77456618,\n",
       "  'live_standings': True,\n",
       "  'coverage': {'predictions': True,\n",
       "   'topscorer_goals': True,\n",
       "   'topscorer_assists': True,\n",
       "   'topscorer_cards': True}},\n",
       " {'id': 453,\n",
       "  'active': True,\n",
       "  'type': 'domestic',\n",
       "  'legacy_id': 70,\n",
       "  'country_id': 2,\n",
       "  'logo_path': 'https://cdn.sportmonks.com/images/soccer/leagues/5/453.png',\n",
       "  'name': 'Ekstraklasa',\n",
       "  'is_cup': False,\n",
       "  'is_friendly': False,\n",
       "  'current_season_id': 18410,\n",
       "  'current_round_id': 248456,\n",
       "  'current_stage_id': 77453800,\n",
       "  'live_standings': True,\n",
       "  'coverage': {'predictions': True,\n",
       "   'topscorer_goals': True,\n",
       "   'topscorer_assists': True,\n",
       "   'topscorer_cards': True}},\n",
       " {'id': 462,\n",
       "  'active': True,\n",
       "  'type': 'domestic',\n",
       "  'legacy_id': 16,\n",
       "  'country_id': 20,\n",
       "  'logo_path': 'https://cdn.sportmonks.com/images/soccer/leagues/14/462.png',\n",
       "  'name': 'Primeira Liga',\n",
       "  'is_cup': False,\n",
       "  'is_friendly': False,\n",
       "  'current_season_id': 18529,\n",
       "  'current_round_id': 251926,\n",
       "  'current_stage_id': 77454186,\n",
       "  'live_standings': True,\n",
       "  'coverage': {'predictions': True,\n",
       "   'topscorer_goals': True,\n",
       "   'topscorer_assists': True,\n",
       "   'topscorer_cards': True}},\n",
       " {'id': 486,\n",
       "  'active': True,\n",
       "  'type': 'domestic',\n",
       "  'legacy_id': 42,\n",
       "  'country_id': 227,\n",
       "  'logo_path': 'https://cdn.sportmonks.com/images/soccer/leagues/6/486.png',\n",
       "  'name': 'Premier League',\n",
       "  'is_cup': False,\n",
       "  'is_friendly': False,\n",
       "  'current_season_id': 18375,\n",
       "  'current_round_id': 247529,\n",
       "  'current_stage_id': 77453688,\n",
       "  'live_standings': True,\n",
       "  'coverage': {'predictions': True,\n",
       "   'topscorer_goals': True,\n",
       "   'topscorer_assists': True,\n",
       "   'topscorer_cards': True}},\n",
       " {'id': 501,\n",
       "  'active': True,\n",
       "  'type': 'domestic',\n",
       "  'legacy_id': 66,\n",
       "  'country_id': 1161,\n",
       "  'logo_path': 'https://cdn.sportmonks.com/images/soccer/leagues/501.png',\n",
       "  'name': 'Premiership',\n",
       "  'is_cup': False,\n",
       "  'is_friendly': False,\n",
       "  'current_season_id': 18369,\n",
       "  'current_round_id': 272834,\n",
       "  'current_stage_id': 77453683,\n",
       "  'live_standings': True,\n",
       "  'coverage': {'predictions': True,\n",
       "   'topscorer_goals': True,\n",
       "   'topscorer_assists': True,\n",
       "   'topscorer_cards': True}},\n",
       " {'id': 564,\n",
       "  'active': True,\n",
       "  'type': 'domestic',\n",
       "  'legacy_id': 19,\n",
       "  'country_id': 32,\n",
       "  'logo_path': 'https://cdn.sportmonks.com/images/soccer/leagues/564.png',\n",
       "  'name': 'La Liga',\n",
       "  'is_cup': False,\n",
       "  'is_friendly': False,\n",
       "  'current_season_id': 18462,\n",
       "  'current_round_id': 250048,\n",
       "  'current_stage_id': 77454016,\n",
       "  'live_standings': True,\n",
       "  'coverage': {'predictions': True,\n",
       "   'topscorer_goals': True,\n",
       "   'topscorer_assists': True,\n",
       "   'topscorer_cards': True}},\n",
       " {'id': 570,\n",
       "  'active': True,\n",
       "  'type': 'domestic_cup',\n",
       "  'legacy_id': 21,\n",
       "  'country_id': 32,\n",
       "  'logo_path': 'https://cdn.sportmonks.com/images/soccer/leagues/26/570.png',\n",
       "  'name': 'Copa Del Rey',\n",
       "  'is_cup': True,\n",
       "  'is_friendly': False,\n",
       "  'current_season_id': 19089,\n",
       "  'current_round_id': None,\n",
       "  'current_stage_id': 77455897,\n",
       "  'live_standings': False,\n",
       "  'coverage': {'predictions': True,\n",
       "   'topscorer_goals': True,\n",
       "   'topscorer_assists': True,\n",
       "   'topscorer_cards': True}},\n",
       " {'id': 573,\n",
       "  'active': True,\n",
       "  'type': 'domestic',\n",
       "  'legacy_id': 120,\n",
       "  'country_id': 47,\n",
       "  'logo_path': 'https://cdn.sportmonks.com/images/soccer/leagues/29/573.png',\n",
       "  'name': 'Allsvenskan',\n",
       "  'is_cup': False,\n",
       "  'is_friendly': False,\n",
       "  'current_season_id': 19376,\n",
       "  'current_round_id': 267059,\n",
       "  'current_stage_id': 77456628,\n",
       "  'live_standings': True,\n",
       "  'coverage': {'predictions': True,\n",
       "   'topscorer_goals': True,\n",
       "   'topscorer_assists': True,\n",
       "   'topscorer_cards': True}},\n",
       " {'id': 591,\n",
       "  'active': True,\n",
       "  'type': 'domestic',\n",
       "  'legacy_id': 39,\n",
       "  'country_id': 62,\n",
       "  'logo_path': 'https://cdn.sportmonks.com/images/soccer/leagues/15/591.png',\n",
       "  'name': 'Super League',\n",
       "  'is_cup': False,\n",
       "  'is_friendly': False,\n",
       "  'current_season_id': 18437,\n",
       "  'current_round_id': 249444,\n",
       "  'current_stage_id': 77453955,\n",
       "  'live_standings': True,\n",
       "  'coverage': {'predictions': True,\n",
       "   'topscorer_goals': True,\n",
       "   'topscorer_assists': True,\n",
       "   'topscorer_cards': True}},\n",
       " {'id': 600,\n",
       "  'active': True,\n",
       "  'type': 'domestic',\n",
       "  'legacy_id': 46,\n",
       "  'country_id': 404,\n",
       "  'logo_path': 'https://cdn.sportmonks.com/images/soccer/leagues/24/600.png',\n",
       "  'name': 'Super Lig',\n",
       "  'is_cup': False,\n",
       "  'is_friendly': False,\n",
       "  'current_season_id': 18568,\n",
       "  'current_round_id': 252738,\n",
       "  'current_stage_id': 77454334,\n",
       "  'live_standings': True,\n",
       "  'coverage': {'predictions': True,\n",
       "   'topscorer_goals': True,\n",
       "   'topscorer_assists': True,\n",
       "   'topscorer_cards': True}},\n",
       " {'id': 609,\n",
       "  'active': True,\n",
       "  'type': 'domestic',\n",
       "  'legacy_id': 52,\n",
       "  'country_id': 86,\n",
       "  'logo_path': 'https://cdn.sportmonks.com/images/soccer/leagues/1/609.png',\n",
       "  'name': 'Premier League',\n",
       "  'is_cup': False,\n",
       "  'is_friendly': False,\n",
       "  'current_season_id': 18379,\n",
       "  'current_round_id': 250608,\n",
       "  'current_stage_id': 77453704,\n",
       "  'live_standings': False,\n",
       "  'coverage': {'predictions': True,\n",
       "   'topscorer_goals': True,\n",
       "   'topscorer_assists': True,\n",
       "   'topscorer_cards': True}},\n",
       " {'id': 1371,\n",
       "  'active': True,\n",
       "  'type': 'domestic',\n",
       "  'legacy_id': None,\n",
       "  'country_id': 556,\n",
       "  'logo_path': 'https://cdn.sportmonks.com/images//soccer/leagues/27/1371.png',\n",
       "  'name': 'UEFA Europa League Play-offs',\n",
       "  'is_cup': True,\n",
       "  'is_friendly': False,\n",
       "  'current_season_id': 15998,\n",
       "  'current_round_id': None,\n",
       "  'current_stage_id': None,\n",
       "  'live_standings': True,\n",
       "  'coverage': {'predictions': False,\n",
       "   'topscorer_goals': True,\n",
       "   'topscorer_assists': True,\n",
       "   'topscorer_cards': True}},\n",
       " {'id': 2286,\n",
       "  'active': True,\n",
       "  'type': 'cup_international',\n",
       "  'legacy_id': None,\n",
       "  'country_id': 41,\n",
       "  'logo_path': 'https://cdn.sportmonks.com/images//soccer/leagues/14/2286.png',\n",
       "  'name': 'Europa Conference League',\n",
       "  'is_cup': True,\n",
       "  'is_friendly': False,\n",
       "  'current_season_id': 18283,\n",
       "  'current_round_id': None,\n",
       "  'current_stage_id': 77453384,\n",
       "  'live_standings': False,\n",
       "  'coverage': {'predictions': False,\n",
       "   'topscorer_goals': True,\n",
       "   'topscorer_assists': True,\n",
       "   'topscorer_cards': True}}]"
      ]
     },
     "execution_count": 3,
     "metadata": {},
     "output_type": "execute_result"
    }
   ],
   "source": [
    "# soccer.seasons()\n",
    "soccer.leagues()"
   ]
  },
  {
   "cell_type": "markdown",
   "metadata": {},
   "source": [
    "### Get all fixtures for each league"
   ]
  },
  {
   "cell_type": "code",
   "execution_count": 4,
   "metadata": {},
   "outputs": [],
   "source": [
    "today = '2022-04-22'\n",
    "cups_fix_dict = dict()\n",
    "leagues_fix_dict = dict()"
   ]
  },
  {
   "cell_type": "code",
   "execution_count": 5,
   "metadata": {},
   "outputs": [],
   "source": [
    "# CHAMPIONS LEAGUE \n",
    "cups_fix_dict['cl_fixtures'] = soccer.fixtures(start_date = '2011-08-01', end_date = today, league_ids = 2) \n",
    "# EUROPA LEAGUE\n",
    "cups_fix_dict['el_fixtures'] = soccer.fixtures(start_date = '2011-08-01', end_date = today, league_ids = 5)\n",
    "# PREMIER LEAGUE \n",
    "leagues_fix_dict['pl_fixtures'] = soccer.fixtures(start_date = '2011-08-01', end_date = today, league_ids = 8)\n",
    "# FA CUP\n",
    "cups_fix_dict['fa_fixtures'] = soccer.fixtures(start_date = '2011-08-01', end_date = today, league_ids = 24)\n",
    "# BUNDESLIGA \n",
    "leagues_fix_dict['bu_fixtures'] = soccer.fixtures(start_date = '2011-08-01', end_date = today, league_ids = 82)\n",
    "# LIGUE 1 \n",
    "leagues_fix_dict['l1_fixtures'] = soccer.fixtures(start_date = '2011-08-01', end_date = today, league_ids = 301)\n",
    "# SERIE A \n",
    "leagues_fix_dict['sa_fixtures'] = soccer.fixtures(start_date = '2011-08-01', end_date = today, league_ids = 384)\n",
    "# COPPA ITALIA\n",
    "cups_fix_dict['ci_fixtures'] = soccer.fixtures(start_date = '2011-08-01', end_date = today, league_ids = 390)\n",
    "# LA LIGA\n",
    "leagues_fix_dict['ll_fixtures'] = soccer.fixtures(start_date = '2011-08-01', end_date = today, league_ids = 564)\n",
    "# COPA DEL REY \n",
    "cups_fix_dict['dr_fixtures'] = soccer.fixtures(start_date = '2011-08-01', end_date = today, league_ids = 570)"
   ]
  },
  {
   "cell_type": "code",
   "execution_count": 6,
   "metadata": {},
   "outputs": [],
   "source": [
    "cups_all_fixtures = []\n",
    "leagues_all_fixtures = []\n",
    "\n",
    "for cupvalues in cups_fix_dict.values():\n",
    "    for fix in cupvalues:\n",
    "        cups_all_fixtures.append(fix['id'])\n",
    "        \n",
    "for leaguevalues in leagues_fix_dict.values():\n",
    "    for fix in leaguevalues:\n",
    "        leagues_all_fixtures.append(fix['id'])"
   ]
  },
  {
   "cell_type": "code",
   "execution_count": 7,
   "metadata": {},
   "outputs": [
    {
     "name": "stdout",
     "output_type": "stream",
     "text": [
      "18309\n",
      "19838\n"
     ]
    }
   ],
   "source": [
    "print(len(cups_all_fixtures))\n",
    "print(len(leagues_all_fixtures))"
   ]
  },
  {
   "cell_type": "markdown",
   "metadata": {},
   "source": [
    "## For each fixture get important Data "
   ]
  },
  {
   "cell_type": "code",
   "execution_count": 24,
   "metadata": {},
   "outputs": [],
   "source": [
    "# Turn a nested dictionary into a flattened dictionary\n",
    "def flatten(d, parent_key='', sep='_'): \n",
    "    items = []\n",
    "    for k, v in d.items():\n",
    "        new_key = parent_key + sep + k if parent_key else k\n",
    "        if isinstance(v, collections.MutableMapping):\n",
    "            items.extend(flatten(v, new_key, sep=sep).items())\n",
    "        else:\n",
    "            items.append((new_key, v))\n",
    "    return dict(items)\n",
    "\n",
    "# Return a list of all fixtures in fix_ids_list controlling for the API calls limit\n",
    "def list_all_fixtures(fix_ids_list):\n",
    "    complete = []\n",
    "    for index, i in enumerate(fix_ids_list):\n",
    "        try:\n",
    "            complete.append(flatten(soccer.fixture(fixture_id=i, includes=['localTeam', 'visitorTeam', 'referee', 'localCoach', 'visitorCoach', 'round', 'stats', 'league', 'season', 'venue'])))\n",
    "        except Exception as e:\n",
    "            print('************** An exception occurred: {} **************'.format(e))\n",
    "            print('************** At Index: {} **************'.format(index))\n",
    "            time.sleep(10)\n",
    "        \n",
    "        if (index + 1) % 1980 == 0: \n",
    "            print('STOP N°: ', int((index+1) / 1980),' -------- PERC: ', round((index+1)/len(fix_ids_list)*100, 2), '%')\n",
    "            print('!!! WAIT ONE HOUR !!!')\n",
    "            time.sleep(3600)\n",
    "    return complete "
   ]
  },
  {
   "cell_type": "code",
   "execution_count": null,
   "metadata": {},
   "outputs": [],
   "source": [
    "cups_complete = list_all_fixtures(cups_all_fixtures)"
   ]
  },
  {
   "cell_type": "code",
   "execution_count": null,
   "metadata": {},
   "outputs": [],
   "source": [
    "time.sleep(3600)\n",
    "leagues_complete = list_all_fixtures(leagues_all_fixtures)"
   ]
  },
  {
   "cell_type": "code",
   "execution_count": null,
   "metadata": {},
   "outputs": [],
   "source": [
    "print(len(cups_complete) == len(cups_all_fixtures))\n",
    "print(len(leagues_complete) == len(leagues_all_fixtures))"
   ]
  },
  {
   "cell_type": "code",
   "execution_count": null,
   "metadata": {},
   "outputs": [],
   "source": [
    "cups = pd.DataFrame(cups_complete)\n",
    "cups.to_csv(\"Input Data/cups_static.csv\", encoding='utf-8', index=False)\n",
    "\n",
    "leagues = pd.DataFrame(leagues_complete)\n",
    "leagues.to_csv(\"Input Data/leagues_static.csv\", encoding='utf-8', index=False)"
   ]
  },
  {
   "cell_type": "markdown",
   "metadata": {},
   "source": [
    "## For each fixture get Odds Data "
   ]
  },
  {
   "cell_type": "markdown",
   "metadata": {},
   "source": [
    "#### Functions"
   ]
  },
  {
   "cell_type": "code",
   "execution_count": 8,
   "metadata": {},
   "outputs": [],
   "source": [
    "abbr1 = {'3WayResult': '3W', 'AsianHandicap' : 'AH', 'GoalsOver/Under': 'O/U', 'CorrectScore' : 'CS'}\n",
    "abbr2 = {'Home' : 'H', 'Away' : 'A', 'Over' : 'O', 'Under' : 'U', 'Handicap' : 'Hnd', 'Result': 'RES', 'TotalGoals': 'TG'}\n",
    "\n",
    "def myReplace(text):\n",
    "    global abbr1, abbr2\n",
    "    for key in abbr1:\n",
    "        text = text.replace(key, abbr1[key])\n",
    "    for key in abbr2:\n",
    "        text = text.replace(key, abbr2[key])\n",
    "    return text"
   ]
  },
  {
   "cell_type": "code",
   "execution_count": 9,
   "metadata": {},
   "outputs": [],
   "source": [
    "def odds_ordered(unordered_data):\n",
    "    bets_to_exclude = ['Goalscorer', 'Multi Scorers', 'Team Goalscorer', 'Player to be Booked', 'Player to be Sent Off']\n",
    "    final_list = []\n",
    "    for fix in range(len(unordered_data)):\n",
    "        d = {}\n",
    "        d['id'] = unordered_data[fix]['match_id'] # get match id\n",
    "        for i in range(len(unordered_data[fix]['odds_infos'])): # loop only in odds_infos value\n",
    "            if unordered_data[fix]['odds_infos'][i]['name'] not in bets_to_exclude: # excluding some bets' types\n",
    "                odd_name = unordered_data[fix]['odds_infos'][i]['name'].replace(' ', '') # get odds_type\n",
    "            for j in range(len(unordered_data[fix]['odds_infos'][i]['bookmaker'])): # loop for each bookmaker \n",
    "                bookmaker_name = unordered_data[fix]['odds_infos'][i]['bookmaker'][j]['name'].replace(' ', '') # get bookmaker name\n",
    "                for k in range(len(unordered_data[fix]['odds_infos'][i]['bookmaker'][j]['odds'])): # loop for each possible bet\n",
    "                    last_dict = unordered_data[fix]['odds_infos'][i]['bookmaker'][j]['odds'][k] # create a new dictionary with only important values \n",
    "                    label = last_dict['label'] # label and value are the two fundamental values \n",
    "                    value = last_dict['value']\n",
    "                    if 'total' in last_dict.values(): # consider total, handicap and extra only if they exist\n",
    "                        total = last_dict['total']\n",
    "                    else:\n",
    "                        total = None\n",
    "                    if 'handicap' in last_dict.values():\n",
    "                        handicap = last_dict['handicap']\n",
    "                    else:\n",
    "                        handicap = None\n",
    "                    if 'extra' in last_dict.values():\n",
    "                        extra = last_dict['extra']\n",
    "                    else:\n",
    "                        extra = None\n",
    "                    book_info = odd_name + '_' + bookmaker_name + '__' # create keys' names combining all the bet main characteristics \n",
    "                    book_info = myReplace(book_info)\n",
    "                    if total is None and handicap is None and extra is None: # filling the dictionary \n",
    "                        d[book_info + str(label)] = value\n",
    "                    elif total is not None and handicap is None and extra is None:\n",
    "                        d[book_info + str(label) + '_' + str(total)] = value\n",
    "                    elif total is None and handicap is not None and extra is None:\n",
    "                        d[book_info + str(label) + '_' + str(handicap)] = value\n",
    "                    elif total is None and handicap is  None and extra is not None:\n",
    "                        d[book_info + str(label) + '_' + str(extra)] = value\n",
    "                    else:\n",
    "                        d[book_info + str(label) + '_' + str(handicap) + '_' + str(total) + '_' + str(extra)] = value\n",
    "        final_list.append(d)\n",
    "    return final_list"
   ]
  },
  {
   "cell_type": "code",
   "execution_count": 10,
   "metadata": {},
   "outputs": [],
   "source": [
    "def list_all_odds(fix_ids_list):\n",
    "    complete = []\n",
    "    for index, i in enumerate(fix_ids_list):\n",
    "        d = {}\n",
    "        d['match_id'] = i\n",
    "        try:\n",
    "            d['odds_infos'] = soccer.pre_match_odds(fixture_id=i)\n",
    "        except Exception as e:\n",
    "            print('************** An exception occurred: {} **************'.format(e))\n",
    "            print('************** At Index: {} **************'.format(index))\n",
    "            d['exception'] = index\n",
    "            time.sleep(10)\n",
    "        finally:\n",
    "            complete.append(d)\n",
    "        if (index + 1) % 1999 == 0: \n",
    "            print('STOP N°: ', int((index+1) / 1999),' -------- PERC: ', round((index+1)/len(fix_ids_list)*100, 2), '%')\n",
    "            print('!!! WAIT ONE HOUR !!!')\n",
    "            time.sleep(3600)\n",
    "    return complete "
   ]
  },
  {
   "cell_type": "markdown",
   "metadata": {},
   "source": [
    "#### Leagues Data"
   ]
  },
  {
   "cell_type": "code",
   "execution_count": null,
   "metadata": {},
   "outputs": [],
   "source": [
    "time.sleep(3600)\n",
    "leagues_complete_odds = list_all_odds(leagues_all_fixtures)"
   ]
  },
  {
   "cell_type": "code",
   "execution_count": null,
   "metadata": {},
   "outputs": [],
   "source": [
    "# LEAGUES\n",
    "# Delete exceptions raised in previous cell\n",
    "leagues_complete_odds[12814].pop('exception', None)\n",
    "leagues_complete_odds[12817].pop('exception', None)\n",
    "# Add the correct info \n",
    "leagues_complete_odds[12814]['odds_infos'] = soccer.pre_match_odds(fixture_id=299235)\n",
    "leagues_complete_odds[12817]['odds_infos'] = soccer.pre_match_odds(fixture_id=299273)"
   ]
  },
  {
   "cell_type": "code",
   "execution_count": null,
   "metadata": {},
   "outputs": [],
   "source": [
    "# CHECK FOR THE RIGHT KEYS \n",
    "for i in range(len(leagues_complete_odds)): # for leagues\n",
    "    for k in leagues_complete_odds[i].keys():\n",
    "        if k not in ['match_id', 'odds_infos']:\n",
    "            print(leagues_complete_odds[i])"
   ]
  },
  {
   "cell_type": "code",
   "execution_count": null,
   "metadata": {},
   "outputs": [],
   "source": [
    "final_leagues_odds = odds_ordered(leagues_complete_odds)    \n",
    "\n",
    "if len(final_leagues_odds) == len(leagues_complete_odds):\n",
    "    with open('Input Data/final_leagues_odds.json', 'w', encoding='utf-8') as f:\n",
    "        json.dump(final_leagues_odds, f, ensure_ascii=False, indent=4)\n",
    "    f.close()"
   ]
  },
  {
   "cell_type": "markdown",
   "metadata": {},
   "source": [
    "#### Cups Data"
   ]
  },
  {
   "cell_type": "code",
   "execution_count": 13,
   "metadata": {},
   "outputs": [
    {
     "name": "stdout",
     "output_type": "stream",
     "text": [
      "************** An exception occurred: HTTPSConnectionPool(host='soccer.sportmonks.com', port=443): Max retries exceeded with url: /api/v2.0/odds/fixture/1061954?api_token=EJnOPHRD4WyO4W4np63izq5Fw7RuwLu2Ys0DiUWy6e4BdV5DUQNmf8uPIkvr&tz=Europe%2FRome&include=&page=1 (Caused by NewConnectionError('<urllib3.connection.HTTPSConnection object at 0x7fbd9a5cf490>: Failed to establish a new connection: [Errno 60] Operation timed out')) **************\n",
      "************** At Index: 1054 **************\n",
      "STOP N°:  1  -------- PERC:  10.92 %\n",
      "!!! WAIT ONE HOUR !!!\n",
      "STOP N°:  2  -------- PERC:  21.84 %\n",
      "!!! WAIT ONE HOUR !!!\n",
      "STOP N°:  3  -------- PERC:  32.75 %\n",
      "!!! WAIT ONE HOUR !!!\n",
      "STOP N°:  4  -------- PERC:  43.67 %\n",
      "!!! WAIT ONE HOUR !!!\n",
      "STOP N°:  5  -------- PERC:  54.59 %\n",
      "!!! WAIT ONE HOUR !!!\n",
      "STOP N°:  6  -------- PERC:  65.51 %\n",
      "!!! WAIT ONE HOUR !!!\n",
      "STOP N°:  7  -------- PERC:  76.43 %\n",
      "!!! WAIT ONE HOUR !!!\n",
      "STOP N°:  8  -------- PERC:  87.35 %\n",
      "!!! WAIT ONE HOUR !!!\n",
      "************** An exception occurred: HTTPSConnectionPool(host='soccer.sportmonks.com', port=443): Max retries exceeded with url: /api/v2.0/odds/fixture/1087354?api_token=EJnOPHRD4WyO4W4np63izq5Fw7RuwLu2Ys0DiUWy6e4BdV5DUQNmf8uPIkvr&tz=Europe%2FRome&include=&page=1 (Caused by NewConnectionError('<urllib3.connection.HTTPSConnection object at 0x7fbd98b23550>: Failed to establish a new connection: [Errno 60] Operation timed out')) **************\n",
      "************** At Index: 16250 **************\n",
      "************** An exception occurred: HTTPSConnectionPool(host='soccer.sportmonks.com', port=443): Max retries exceeded with url: /api/v2.0/odds/fixture/1087375?api_token=EJnOPHRD4WyO4W4np63izq5Fw7RuwLu2Ys0DiUWy6e4BdV5DUQNmf8uPIkvr&tz=Europe%2FRome&include=&page=1 (Caused by NewConnectionError('<urllib3.connection.HTTPSConnection object at 0x7fbd98363e20>: Failed to establish a new connection: [Errno 60] Operation timed out')) **************\n",
      "************** At Index: 16252 **************\n",
      "************** An exception occurred: HTTPSConnectionPool(host='soccer.sportmonks.com', port=443): Max retries exceeded with url: /api/v2.0/odds/fixture/1086772?api_token=EJnOPHRD4WyO4W4np63izq5Fw7RuwLu2Ys0DiUWy6e4BdV5DUQNmf8uPIkvr&tz=Europe%2FRome&include=&page=1 (Caused by NewConnectionError('<urllib3.connection.HTTPSConnection object at 0x7fbd98b23850>: Failed to establish a new connection: [Errno 60] Operation timed out')) **************\n",
      "************** At Index: 16261 **************\n",
      "STOP N°:  9  -------- PERC:  98.26 %\n",
      "!!! WAIT ONE HOUR !!!\n"
     ]
    }
   ],
   "source": [
    "cups_complete_odds = list_all_odds(cups_all_fixtures) "
   ]
  },
  {
   "cell_type": "code",
   "execution_count": 15,
   "metadata": {},
   "outputs": [
    {
     "name": "stdout",
     "output_type": "stream",
     "text": [
      "{'match_id': 1061954, 'exception': 1054}\n",
      "{'match_id': 1087354, 'exception': 16250}\n",
      "{'match_id': 1087375, 'exception': 16252}\n",
      "{'match_id': 1086772, 'exception': 16261}\n"
     ]
    }
   ],
   "source": [
    "print(cups_complete_odds[1054])\n",
    "print(cups_complete_odds[16250])\n",
    "print(cups_complete_odds[16252])\n",
    "print(cups_complete_odds[16261])"
   ]
  },
  {
   "cell_type": "code",
   "execution_count": 17,
   "metadata": {},
   "outputs": [],
   "source": [
    "# CUPS\n",
    "# Delete exceptions raised in previous cell\n",
    "cups_complete_odds[1054].pop('exception', None)\n",
    "cups_complete_odds[16250].pop('exception', None)\n",
    "cups_complete_odds[16252].pop('exception', None)\n",
    "cups_complete_odds[16261].pop('exception', None)\n",
    "# Add the correct info \n",
    "cups_complete_odds[1054]['odds_infos'] = soccer.pre_match_odds(fixture_id=1061954)\n",
    "cups_complete_odds[16250]['odds_infos'] = soccer.pre_match_odds(fixture_id=1087354)\n",
    "cups_complete_odds[16252]['odds_infos'] = soccer.pre_match_odds(fixture_id=1087375)\n",
    "cups_complete_odds[16261]['odds_infos'] = soccer.pre_match_odds(fixture_id=1086772)"
   ]
  },
  {
   "cell_type": "code",
   "execution_count": 18,
   "metadata": {},
   "outputs": [],
   "source": [
    "# CHECK FOR THE RIGHT KEYS \n",
    "for i in range(len(cups_complete_odds)): # for cups\n",
    "    for k in cups_complete_odds[i].keys():\n",
    "        if k not in ['match_id', 'odds_infos']:\n",
    "            print(cups_complete_odds[i])"
   ]
  },
  {
   "cell_type": "code",
   "execution_count": 19,
   "metadata": {},
   "outputs": [],
   "source": [
    "final_cups_odds = odds_ordered(cups_complete_odds)     \n",
    "\n",
    "if len(final_cups_odds) == len(cups_complete_odds):\n",
    "    with open('Input Data/final_cups_odds.json', 'w', encoding='utf-8') as f:\n",
    "        json.dump(final_cups_odds, f, ensure_ascii=False, indent=4)\n",
    "    f.close()"
   ]
  },
  {
   "cell_type": "markdown",
   "metadata": {},
   "source": [
    "## More Features Data"
   ]
  },
  {
   "cell_type": "markdown",
   "metadata": {},
   "source": [
    "#### Functions"
   ]
  },
  {
   "cell_type": "code",
   "execution_count": 25,
   "metadata": {},
   "outputs": [],
   "source": [
    "# Return a list of all fixtures in fix_ids_list controlling for the API calls limit\n",
    "def list_more(fix_ids_list):\n",
    "    complete = []\n",
    "    for index, i in enumerate(fix_ids_list):\n",
    "        try:\n",
    "            complete.append(flatten(soccer.fixture(fixture_id=i, includes=['substitutions', 'goals', 'cards', 'corners', 'lineup', 'bench', 'sidelined'])))\n",
    "        except Exception as e:\n",
    "            print('************** An exception occurred: {} **************'.format(e))\n",
    "            print('************** At Index: {} **************'.format(index))\n",
    "            time.sleep(10)\n",
    "        \n",
    "        if (index + 1) % 1999 == 0: \n",
    "            print('STOP N°: ', int((index+1) / 1999),' -------- PERC: ', round((index+1)/len(fix_ids_list)*100, 2), '%')\n",
    "            print('!!! WAIT ONE HOUR !!!')\n",
    "            time.sleep(3600)\n",
    "            print('--- START MAKING API CALLS ---')\n",
    "    return complete "
   ]
  },
  {
   "cell_type": "markdown",
   "metadata": {},
   "source": [
    "#### Leagues More"
   ]
  },
  {
   "cell_type": "code",
   "execution_count": 26,
   "metadata": {},
   "outputs": [
    {
     "name": "stderr",
     "output_type": "stream",
     "text": [
      "/var/folders/xr/y1bkzkl93sl5hxsn03468vzh0000gn/T/ipykernel_13496/1782479099.py:6: DeprecationWarning: Using or importing the ABCs from 'collections' instead of from 'collections.abc' is deprecated since Python 3.3, and in 3.10 it will stop working\n",
      "  if isinstance(v, collections.MutableMapping):\n"
     ]
    },
    {
     "name": "stdout",
     "output_type": "stream",
     "text": [
      "STOP N°:  1  -------- PERC:  10.08 %\n",
      "!!! WAIT ONE HOUR !!!\n",
      "--- START MAKING API CALLS ---\n",
      "STOP N°:  2  -------- PERC:  20.15 %\n",
      "!!! WAIT ONE HOUR !!!\n",
      "--- START MAKING API CALLS ---\n",
      "STOP N°:  3  -------- PERC:  30.23 %\n",
      "!!! WAIT ONE HOUR !!!\n",
      "--- START MAKING API CALLS ---\n",
      "STOP N°:  4  -------- PERC:  40.31 %\n",
      "!!! WAIT ONE HOUR !!!\n",
      "--- START MAKING API CALLS ---\n",
      "STOP N°:  5  -------- PERC:  50.38 %\n",
      "!!! WAIT ONE HOUR !!!\n",
      "--- START MAKING API CALLS ---\n",
      "STOP N°:  6  -------- PERC:  60.46 %\n",
      "!!! WAIT ONE HOUR !!!\n",
      "--- START MAKING API CALLS ---\n",
      "************** An exception occurred: HTTPSConnectionPool(host='soccer.sportmonks.com', port=443): Max retries exceeded with url: /api/v2.0/fixtures/302049?api_token=EJnOPHRD4WyO4W4np63izq5Fw7RuwLu2Ys0DiUWy6e4BdV5DUQNmf8uPIkvr&tz=Europe%2FRome&include=bench%2Ccards%2Ccorners%2Cgoals%2Clineup%2Csidelined%2Csubstitutions&page=1 (Caused by NewConnectionError('<urllib3.connection.HTTPSConnection object at 0x7fbd98bfcac0>: Failed to establish a new connection: [Errno 60] Operation timed out')) **************\n",
      "************** At Index: 13763 **************\n",
      "************** An exception occurred: HTTPSConnectionPool(host='soccer.sportmonks.com', port=443): Max retries exceeded with url: /api/v2.0/fixtures/302067?api_token=EJnOPHRD4WyO4W4np63izq5Fw7RuwLu2Ys0DiUWy6e4BdV5DUQNmf8uPIkvr&tz=Europe%2FRome&include=bench%2Ccards%2Ccorners%2Cgoals%2Clineup%2Csidelined%2Csubstitutions&page=1 (Caused by NewConnectionError('<urllib3.connection.HTTPSConnection object at 0x7fbd9845ffd0>: Failed to establish a new connection: [Errno 60] Operation timed out')) **************\n",
      "************** At Index: 13772 **************\n",
      "STOP N°:  7  -------- PERC:  70.54 %\n",
      "!!! WAIT ONE HOUR !!!\n",
      "--- START MAKING API CALLS ---\n",
      "STOP N°:  8  -------- PERC:  80.61 %\n",
      "!!! WAIT ONE HOUR !!!\n",
      "--- START MAKING API CALLS ---\n",
      "STOP N°:  9  -------- PERC:  90.69 %\n",
      "!!! WAIT ONE HOUR !!!\n",
      "--- START MAKING API CALLS ---\n"
     ]
    }
   ],
   "source": [
    "time.sleep(3600)\n",
    "leagues_more = list_more(leagues_all_fixtures)"
   ]
  },
  {
   "cell_type": "code",
   "execution_count": 35,
   "metadata": {},
   "outputs": [],
   "source": [
    "leagues_more.append(flatten(soccer.fixture(fixture_id=leagues_all_fixtures[13763], includes=['substitutions', 'goals', 'cards', 'corners', 'lineup', 'bench', 'sidelined'])))\n",
    "leagues_more.append(flatten(soccer.fixture(fixture_id=leagues_all_fixtures[13772], includes=['substitutions', 'goals', 'cards', 'corners', 'lineup', 'bench', 'sidelined'])))"
   ]
  },
  {
   "cell_type": "code",
   "execution_count": 36,
   "metadata": {},
   "outputs": [
    {
     "name": "stdout",
     "output_type": "stream",
     "text": [
      "19838\n",
      "19838\n"
     ]
    }
   ],
   "source": [
    "print(len(leagues_more))\n",
    "print(len(leagues_all_fixtures))"
   ]
  },
  {
   "cell_type": "code",
   "execution_count": 37,
   "metadata": {},
   "outputs": [],
   "source": [
    "leagues = pd.DataFrame(leagues_more)\n",
    "leagues.to_csv(\"Input Data/leagues_more.csv\", encoding='utf-8', index=False)"
   ]
  },
  {
   "cell_type": "markdown",
   "metadata": {},
   "source": [
    "#### Cups More"
   ]
  },
  {
   "cell_type": "code",
   "execution_count": 27,
   "metadata": {},
   "outputs": [
    {
     "name": "stdout",
     "output_type": "stream",
     "text": [
      "STOP N°:  1  -------- PERC:  10.92 %\n",
      "!!! WAIT ONE HOUR !!!\n",
      "--- START MAKING API CALLS ---\n",
      "STOP N°:  2  -------- PERC:  21.84 %\n",
      "!!! WAIT ONE HOUR !!!\n",
      "--- START MAKING API CALLS ---\n",
      "STOP N°:  3  -------- PERC:  32.75 %\n",
      "!!! WAIT ONE HOUR !!!\n",
      "--- START MAKING API CALLS ---\n",
      "STOP N°:  4  -------- PERC:  43.67 %\n",
      "!!! WAIT ONE HOUR !!!\n",
      "--- START MAKING API CALLS ---\n",
      "STOP N°:  5  -------- PERC:  54.59 %\n",
      "!!! WAIT ONE HOUR !!!\n",
      "--- START MAKING API CALLS ---\n",
      "************** An exception occurred: HTTPSConnectionPool(host='soccer.sportmonks.com', port=443): Max retries exceeded with url: /api/v2.0/fixtures/1070867?api_token=EJnOPHRD4WyO4W4np63izq5Fw7RuwLu2Ys0DiUWy6e4BdV5DUQNmf8uPIkvr&tz=Europe%2FRome&include=bench%2Ccards%2Ccorners%2Cgoals%2Clineup%2Csidelined%2Csubstitutions&page=1 (Caused by NewConnectionError('<urllib3.connection.HTTPSConnection object at 0x7fbd99659bb0>: Failed to establish a new connection: [Errno 60] Operation timed out')) **************\n",
      "************** At Index: 9997 **************\n",
      "STOP N°:  6  -------- PERC:  65.51 %\n",
      "!!! WAIT ONE HOUR !!!\n",
      "--- START MAKING API CALLS ---\n",
      "STOP N°:  7  -------- PERC:  76.43 %\n",
      "!!! WAIT ONE HOUR !!!\n",
      "--- START MAKING API CALLS ---\n",
      "STOP N°:  8  -------- PERC:  87.35 %\n",
      "!!! WAIT ONE HOUR !!!\n",
      "--- START MAKING API CALLS ---\n",
      "STOP N°:  9  -------- PERC:  98.26 %\n",
      "!!! WAIT ONE HOUR !!!\n",
      "--- START MAKING API CALLS ---\n"
     ]
    }
   ],
   "source": [
    "time.sleep(3600)\n",
    "cups_more = list_more(cups_all_fixtures)"
   ]
  },
  {
   "cell_type": "code",
   "execution_count": 38,
   "metadata": {},
   "outputs": [],
   "source": [
    "cups_more.append(flatten(soccer.fixture(fixture_id=cups_all_fixtures[9997], includes=['substitutions', 'goals', 'cards', 'corners', 'lineup', 'bench', 'sidelined'])))"
   ]
  },
  {
   "cell_type": "code",
   "execution_count": 39,
   "metadata": {},
   "outputs": [
    {
     "name": "stdout",
     "output_type": "stream",
     "text": [
      "18309\n",
      "18309\n"
     ]
    }
   ],
   "source": [
    "print(len(cups_more))\n",
    "print(len(cups_all_fixtures))"
   ]
  },
  {
   "cell_type": "code",
   "execution_count": 40,
   "metadata": {},
   "outputs": [],
   "source": [
    "cups = pd.DataFrame(cups_more)\n",
    "cups.to_csv(\"Input Data/cups_more.csv\", encoding='utf-8', index=False)"
   ]
  }
 ],
 "metadata": {
  "interpreter": {
   "hash": "40d3a090f54c6569ab1632332b64b2c03c39dcf918b08424e98f38b5ae0af88f"
  },
  "kernelspec": {
   "display_name": "Python 3",
   "language": "python",
   "name": "python3"
  },
  "language_info": {
   "codemirror_mode": {
    "name": "ipython",
    "version": 3
   },
   "file_extension": ".py",
   "mimetype": "text/x-python",
   "name": "python",
   "nbconvert_exporter": "python",
   "pygments_lexer": "ipython3",
   "version": "3.8.13"
  }
 },
 "nbformat": 4,
 "nbformat_minor": 2
}
