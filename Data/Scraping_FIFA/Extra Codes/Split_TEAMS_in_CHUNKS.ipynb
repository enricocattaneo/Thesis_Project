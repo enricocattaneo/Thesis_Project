{
 "cells": [
  {
   "cell_type": "markdown",
   "metadata": {},
   "source": [
    "## Create Teams' Chunks"
   ]
  },
  {
   "cell_type": "code",
   "execution_count": 1,
   "metadata": {},
   "outputs": [],
   "source": [
    "import numpy as np\n",
    "import json\n",
    "\n",
    "j_file = open('Data/DIRTY/TeamData/all_teams_links_weekly_MINOR.json')\n",
    "all_minorteams_pages = json.load(j_file)\n",
    "j_file.close()\n",
    "\n",
    "chunks_dict = {}\n",
    "l = np.array_split(all_minorteams_pages, 10)\n",
    "for index, i in enumerate(l):\n",
    "    chunks_dict[\"chunk{0}\".format(index+1)] = i.tolist()\n",
    "\n",
    "for key,val in chunks_dict.items():\n",
    "    exec(key + '=val')"
   ]
  },
  {
   "cell_type": "code",
   "execution_count": 2,
   "metadata": {},
   "outputs": [],
   "source": [
    "with open('Data/DIRTY/CHUNKS_TEAMS/chunk1.json', 'w', encoding='utf-8') as f:\n",
    "    json.dump(chunk1, f, ensure_ascii=False, indent=4)\n",
    "f.close()\n",
    "\n",
    "with open('Data/DIRTY/CHUNKS_TEAMS/chunk2.json', 'w', encoding='utf-8') as f:\n",
    "    json.dump(chunk2, f, ensure_ascii=False, indent=4)\n",
    "f.close()\n",
    "\n",
    "with open('Data/DIRTY/CHUNKS_TEAMS/chunk3.json', 'w', encoding='utf-8') as f:\n",
    "    json.dump(chunk3, f, ensure_ascii=False, indent=4)\n",
    "f.close()\n",
    "\n",
    "with open('Data/DIRTY/CHUNKS_TEAMS/chunk4.json', 'w', encoding='utf-8') as f:\n",
    "    json.dump(chunk4, f, ensure_ascii=False, indent=4)\n",
    "f.close()\n",
    "\n",
    "with open('Data/DIRTY/CHUNKS_TEAMS/chunk5.json', 'w', encoding='utf-8') as f:\n",
    "    json.dump(chunk5, f, ensure_ascii=False, indent=4)\n",
    "f.close()\n",
    "\n",
    "with open('Data/DIRTY/CHUNKS_TEAMS/chunk6.json', 'w', encoding='utf-8') as f:\n",
    "    json.dump(chunk6, f, ensure_ascii=False, indent=4)\n",
    "f.close()\n",
    "\n",
    "with open('Data/DIRTY/CHUNKS_TEAMS/chunk7.json', 'w', encoding='utf-8') as f:\n",
    "    json.dump(chunk7, f, ensure_ascii=False, indent=4)\n",
    "f.close()\n",
    "\n",
    "with open('Data/DIRTY/CHUNKS_TEAMS/chunk8.json', 'w', encoding='utf-8') as f:\n",
    "    json.dump(chunk8, f, ensure_ascii=False, indent=4)\n",
    "f.close()\n",
    "\n",
    "with open('Data/DIRTY/CHUNKS_TEAMS/chunk9.json', 'w', encoding='utf-8') as f:\n",
    "    json.dump(chunk9, f, ensure_ascii=False, indent=4)\n",
    "f.close()\n",
    "\n",
    "with open('Data/DIRTY/CHUNKS_TEAMS/chunk10.json', 'w', encoding='utf-8') as f:\n",
    "    json.dump(chunk10, f, ensure_ascii=False, indent=4)\n",
    "f.close()"
   ]
  }
 ],
 "metadata": {
  "interpreter": {
   "hash": "40d3a090f54c6569ab1632332b64b2c03c39dcf918b08424e98f38b5ae0af88f"
  },
  "kernelspec": {
   "display_name": "Python 3.8.13 ('base')",
   "language": "python",
   "name": "python3"
  },
  "language_info": {
   "codemirror_mode": {
    "name": "ipython",
    "version": 3
   },
   "file_extension": ".py",
   "mimetype": "text/x-python",
   "name": "python",
   "nbconvert_exporter": "python",
   "pygments_lexer": "ipython3",
   "version": "3.8.13"
  },
  "orig_nbformat": 4
 },
 "nbformat": 4,
 "nbformat_minor": 2
}
