{
 "cells": [
  {
   "cell_type": "code",
   "execution_count": null,
   "metadata": {},
   "outputs": [],
   "source": [
    "import numpy as np\n",
    "import json\n",
    "\n",
    "j_file = open('Data/PlayerData/all_players_links_weekly.json')\n",
    "all_players_pages = json.load(j_file)\n",
    "j_file.close()\n",
    "\n",
    "chunks_dict = {}\n",
    "l = np.array_split(all_players_pages, 22)\n",
    "for index, i in enumerate(l):\n",
    "    chunks_dict[\"chunk{0}\".format(index+1)] = i.tolist()\n",
    "\n",
    "for key,val in chunks_dict.items():\n",
    "    exec(key + '=val')"
   ]
  },
  {
   "cell_type": "code",
   "execution_count": null,
   "metadata": {},
   "outputs": [],
   "source": [
    "print(len(chunk1))\n",
    "print(len(chunk2))\n",
    "print(len(chunk3))\n",
    "print(len(chunk4))\n",
    "print(len(chunk5))\n",
    "print(len(chunk6))\n",
    "print(len(chunk7))\n",
    "print(len(chunk8))\n",
    "print(len(chunk9))\n",
    "print(len(chunk10))\n",
    "print(len(chunk11))\n",
    "print(len(chunk12))\n",
    "print(len(chunk13))\n",
    "print(len(chunk14))\n",
    "print(len(chunk15))\n",
    "print(len(chunk16))\n",
    "print(len(chunk17))\n",
    "print(len(chunk18))\n",
    "print(len(chunk19))\n",
    "print(len(chunk20))\n",
    "print(len(chunk21))\n",
    "print(len(chunk22))"
   ]
  },
  {
   "cell_type": "code",
   "execution_count": null,
   "metadata": {},
   "outputs": [],
   "source": [
    "print(len(chunk1) + len(chunk2) + len(chunk3) + len(chunk4) + len(chunk5) + len(chunk6) + len(chunk7) + len(chunk8) + len(chunk9) + len(chunk10) + len(chunk11) + len(chunk12) + len(chunk13) + len(chunk14) + len(chunk15))\n",
    "\n",
    "print(len(all_players_pages))"
   ]
  },
  {
   "cell_type": "code",
   "execution_count": null,
   "metadata": {},
   "outputs": [],
   "source": [
    "with open('Data/CHUNKS/chunk1.json', 'w', encoding='utf-8') as f:\n",
    "    json.dump(chunk1, f, ensure_ascii=False, indent=4)\n",
    "f.close()\n",
    "\n",
    "with open('Data/CHUNKS/chunk2.json', 'w', encoding='utf-8') as f:\n",
    "    json.dump(chunk2, f, ensure_ascii=False, indent=4)\n",
    "f.close()\n",
    "\n",
    "with open('Data/CHUNKS/chunk3.json', 'w', encoding='utf-8') as f:\n",
    "    json.dump(chunk3, f, ensure_ascii=False, indent=4)\n",
    "f.close()\n",
    "\n",
    "with open('Data/CHUNKS/chunk4.json', 'w', encoding='utf-8') as f:\n",
    "    json.dump(chunk4, f, ensure_ascii=False, indent=4)\n",
    "f.close()\n",
    "\n",
    "with open('Data/CHUNKS/chunk5.json', 'w', encoding='utf-8') as f:\n",
    "    json.dump(chunk5, f, ensure_ascii=False, indent=4)\n",
    "f.close()\n",
    "\n",
    "with open('Data/CHUNKS/chunk6.json', 'w', encoding='utf-8') as f:\n",
    "    json.dump(chunk6, f, ensure_ascii=False, indent=4)\n",
    "f.close()"
   ]
  },
  {
   "cell_type": "code",
   "execution_count": null,
   "metadata": {},
   "outputs": [],
   "source": [
    "with open('Data/CHUNKS/chunk7.json', 'w', encoding='utf-8') as f:\n",
    "    json.dump(chunk7, f, ensure_ascii=False, indent=4)\n",
    "f.close()\n",
    "\n",
    "with open('Data/CHUNKS/chunk8.json', 'w', encoding='utf-8') as f:\n",
    "    json.dump(chunk8, f, ensure_ascii=False, indent=4)\n",
    "f.close()\n",
    "\n",
    "with open('Data/CHUNKS/chunk9.json', 'w', encoding='utf-8') as f:\n",
    "    json.dump(chunk9, f, ensure_ascii=False, indent=4)\n",
    "f.close()\n",
    "\n",
    "with open('Data/CHUNKS/chunk10.json', 'w', encoding='utf-8') as f:\n",
    "    json.dump(chunk10, f, ensure_ascii=False, indent=4)\n",
    "f.close()\n",
    "\n",
    "with open('Data/CHUNKS/chunk11.json', 'w', encoding='utf-8') as f:\n",
    "    json.dump(chunk11, f, ensure_ascii=False, indent=4)\n",
    "f.close()\n",
    "\n",
    "with open('Data/CHUNKS/chunk12.json', 'w', encoding='utf-8') as f:\n",
    "    json.dump(chunk12, f, ensure_ascii=False, indent=4)\n",
    "f.close()"
   ]
  },
  {
   "cell_type": "code",
   "execution_count": null,
   "metadata": {},
   "outputs": [],
   "source": [
    "with open('Data/CHUNKS/chunk13.json', 'w', encoding='utf-8') as f:\n",
    "    json.dump(chunk13, f, ensure_ascii=False, indent=4)\n",
    "f.close()\n",
    "\n",
    "with open('Data/CHUNKS/chunk14.json', 'w', encoding='utf-8') as f:\n",
    "    json.dump(chunk14, f, ensure_ascii=False, indent=4)\n",
    "f.close()\n",
    "\n",
    "with open('Data/CHUNKS/chunk15.json', 'w', encoding='utf-8') as f:\n",
    "    json.dump(chunk15, f, ensure_ascii=False, indent=4)\n",
    "f.close()\n",
    "\n",
    "with open('Data/CHUNKS/chunk16.json', 'w', encoding='utf-8') as f:\n",
    "    json.dump(chunk16, f, ensure_ascii=False, indent=4)\n",
    "f.close()\n",
    "with open('Data/CHUNKS/chunk17.json', 'w', encoding='utf-8') as f:\n",
    "    json.dump(chunk17, f, ensure_ascii=False, indent=4)\n",
    "f.close()\n",
    "with open('Data/CHUNKS/chunk18.json', 'w', encoding='utf-8') as f:\n",
    "    json.dump(chunk18, f, ensure_ascii=False, indent=4)\n",
    "f.close()"
   ]
  },
  {
   "cell_type": "code",
   "execution_count": null,
   "metadata": {},
   "outputs": [],
   "source": [
    "with open('Data/CHUNKS/chunk19.json', 'w', encoding='utf-8') as f:\n",
    "    json.dump(chunk19, f, ensure_ascii=False, indent=4)\n",
    "f.close()\n",
    "\n",
    "with open('Data/CHUNKS/chunk20.json', 'w', encoding='utf-8') as f:\n",
    "    json.dump(chunk20, f, ensure_ascii=False, indent=4)\n",
    "f.close()\n",
    "\n",
    "with open('Data/CHUNKS/chunk21.json', 'w', encoding='utf-8') as f:\n",
    "    json.dump(chunk21, f, ensure_ascii=False, indent=4)\n",
    "f.close()\n",
    "\n",
    "with open('Data/CHUNKS/chunk22.json', 'w', encoding='utf-8') as f:\n",
    "    json.dump(chunk22, f, ensure_ascii=False, indent=4)\n",
    "f.close()"
   ]
  }
 ],
 "metadata": {
  "interpreter": {
   "hash": "40d3a090f54c6569ab1632332b64b2c03c39dcf918b08424e98f38b5ae0af88f"
  },
  "kernelspec": {
   "display_name": "Python 3.8.12 ('base')",
   "language": "python",
   "name": "python3"
  },
  "language_info": {
   "codemirror_mode": {
    "name": "ipython",
    "version": 3
   },
   "file_extension": ".py",
   "mimetype": "text/x-python",
   "name": "python",
   "nbconvert_exporter": "python",
   "pygments_lexer": "ipython3",
   "version": "3.8.12"
  },
  "orig_nbformat": 4
 },
 "nbformat": 4,
 "nbformat_minor": 2
}
